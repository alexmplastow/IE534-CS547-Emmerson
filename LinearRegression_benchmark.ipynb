{
  "nbformat": 4,
  "nbformat_minor": 0,
  "metadata": {
    "colab": {
      "provenance": [],
      "include_colab_link": true
    },
    "kernelspec": {
      "name": "python3",
      "display_name": "Python 3"
    },
    "language_info": {
      "name": "python"
    }
  },
  "cells": [
    {
      "cell_type": "markdown",
      "metadata": {
        "id": "view-in-github",
        "colab_type": "text"
      },
      "source": [
        "<a href=\"https://colab.research.google.com/github/alexmplastow/IE534-CS547-Emmerson/blob/main/LinearRegression_benchmark.ipynb\" target=\"_parent\"><img src=\"https://colab.research.google.com/assets/colab-badge.svg\" alt=\"Open In Colab\"/></a>"
      ]
    },
    {
      "cell_type": "markdown",
      "source": [
        "# Download the dataset"
      ],
      "metadata": {
        "id": "SRTLxWi7_hxq"
      }
    },
    {
      "cell_type": "code",
      "source": [
        "!wget -c https://data.cdc.gov/api/views/xkb8-kh2a/rows.csv?accessType=DOWNLOAD&bom=true&format=true -O Drug_Overdose_Deaths.csv #name did not changed..."
      ],
      "metadata": {
        "colab": {
          "base_uri": "https://localhost:8080/"
        },
        "id": "9xeYBBmoiBfg",
        "outputId": "45e6865e-f0d8-4f35-a191-114ecb55a130"
      },
      "execution_count": null,
      "outputs": [
        {
          "output_type": "stream",
          "name": "stdout",
          "text": [
            "/bin/bash: -O: command not found\n",
            "--2022-12-09 04:18:19--  https://data.cdc.gov/api/views/xkb8-kh2a/rows.csv?accessType=DOWNLOAD\n",
            "Resolving data.cdc.gov (data.cdc.gov)... 52.206.140.199, 52.206.68.26, 52.206.140.205\n",
            "Connecting to data.cdc.gov (data.cdc.gov)|52.206.140.199|:443... connected.\n",
            "HTTP request sent, awaiting response... 200 OK\n",
            "Length: unspecified [text/csv]\n",
            "Saving to: ‘rows.csv?accessType=DOWNLOAD’\n",
            "\n",
            "rows.csv?accessType     [     <=>            ]   9.20M  8.95MB/s    in 1.0s    \n",
            "\n",
            "2022-12-09 04:18:20 (8.95 MB/s) - ‘rows.csv?accessType=DOWNLOAD’ saved [9651249]\n",
            "\n"
          ]
        }
      ]
    },
    {
      "cell_type": "markdown",
      "source": [
        "# Importing necessary Modules"
      ],
      "metadata": {
        "id": "EeISZOTtmoXf"
      }
    },
    {
      "cell_type": "code",
      "execution_count": null,
      "metadata": {
        "id": "EdjnhPxBIjBs"
      },
      "outputs": [],
      "source": [
        "import pandas as pd\n",
        "import numpy as np\n",
        "import torch\n",
        "from torch.autograd import Variable\n",
        "\n",
        "import matplotlib.pyplot as plt"
      ]
    },
    {
      "cell_type": "markdown",
      "source": [
        "# Function Declarations"
      ],
      "metadata": {
        "id": "xkWzUddGCCwZ"
      }
    },
    {
      "cell_type": "markdown",
      "source": [
        "Functions are stored in a seperate block\n",
        "\n",
        "Comments are added to indicate what goes into the function and what comes out, so they may be treated as black boxes\n",
        "\n",
        "Two usefull functions are defined here: one for converting categorical data into one of the numeric data types and another for normalizing a specified pandas column"
      ],
      "metadata": {
        "id": "e4l17Biumr6e"
      }
    },
    {
      "cell_type": "code",
      "source": [
        "#I borrowed this function from another project, it does not generalize\n",
        "#to pandas dataframes, so\n",
        "#Input: data frame (we use an nd.array object here), labels (also nd.array), and the division of folds\n",
        "#Output: partitioned arrays paired in tuples\n",
        "def partition(X, Y, partitionsInPercent):\n",
        "  inputDimensions = X.shape\n",
        "\n",
        "  if sum(partitionsInPercent) != 100:\n",
        "    raise Exception('You are not entering fold sizes which add'\n",
        "                    'to 100%, enter the k-fold percent, '\n",
        "                    'the validation percent, and the testing percent')\n",
        "  fractionCovered = 0\n",
        "  partitions = []\n",
        "\n",
        "  for partitionSizeInPercent in partitionsInPercent:\n",
        "    alpha = int((fractionCovered) * inputDimensions[0])\n",
        "    omega = int((fractionCovered + partitionSizeInPercent /\n",
        "                 100) * inputDimensions[0])\n",
        "    dataRange = range(alpha, omega)\n",
        "    fractionCovered += partitionSizeInPercent / 100\n",
        "    partitions.append(tuple((X[dataRange, :], Y[dataRange,])))\n",
        "\n",
        "  return partitions\n",
        "\n",
        "#Input, dataframe which you wish to encode for one column\n",
        "#Output, the same dataframe with an encoding for a single column\n",
        "def categoricalEncoding(category, df):\n",
        "  Encoder = dict([(j, i) for i,j in enumerate(list(set(df[category])))])\n",
        "  Encoding = pd.Series([Encoder[state] for state in df[category]])\n",
        "  df[category] = Encoding\n",
        "  return df\n",
        "\n",
        "#Input: column for normalization and the dataframe\n",
        "#Output: The same dataframe, just with the specified column normalized\n",
        "columnNormalization = lambda column, df : \\\n",
        "                      (df[column] - df[column].min())  \\\n",
        "                      / (df[column].max() - df[column].min())"
      ],
      "metadata": {
        "id": "I7yT7IwifC99"
      },
      "execution_count": null,
      "outputs": []
    },
    {
      "cell_type": "markdown",
      "source": [
        "# Data Processing"
      ],
      "metadata": {
        "id": "0AR4tGgECO-m"
      }
    },
    {
      "cell_type": "markdown",
      "source": [
        "This is where most of the dataframe manipulation is done\n",
        "\n",
        "Data is uploaded, useless data is dropped, NaN values are removed, categorical data is encoded, dataframes are split into inputs and outputs, and dataframes are converted into pytorch tensors"
      ],
      "metadata": {
        "id": "1KhnBa4gnje6"
      }
    },
    {
      "cell_type": "code",
      "source": [
        "df = pd.read_csv('rows.csv?accessType=DOWNLOAD').dropna().reset_index()\n",
        "\n",
        "#I see in the \"DataPreProcessing&Visualization.py\" script, there was an action to drop useless features\n",
        "#I haven't combed through them all, but I'm going to trust my teammates\n",
        "#judgement\n",
        "\n",
        "\n",
        "df = df.drop(labels=[\"State Name\", \"Period\", \"Percent Complete\", \"Footnote\",\n",
        "                     \"Footnote Symbol\", \"Predicted Value\"], axis=1) #\"Percent Pending Investigation\", \n",
        "\n",
        "#I am operating under the not entirely unreasonable assumption that\n",
        "  #'Data Value' produces the \"predicted values\" by using the other parameters\n",
        "  #to train a prediction for the \"Predicted Value\" column\n",
        "\n",
        "outputDf = pd.DataFrame(df['Data Value'], columns=[\"Data Value\"])\n",
        "inputDf = df.drop(labels=['Data Value'], axis = 1)\n",
        "\n",
        "#Encoding the data\n",
        "  #I opted not to use one-hot encoding, I figured fifty categorical variables\n",
        "  #Wouldn't improve the quality of the learning algorithm\n",
        "  #But I certainly wouldn't mind if somebody proved me wrong\n",
        "\n",
        "#It looks to me like the data is encoded properly\n",
        "\n",
        "for category in [\"State\", \"Month\", \"Indicator\"]:\n",
        "  inputDf = categoricalEncoding(category, inputDf)\n",
        "\n",
        "for category in [\"State\", \"Month\", \"Year\", \"Indicator\"]:\n",
        "  inputDf[category] = columnNormalization(category, inputDf)\n",
        "\n",
        "inputDf = inputDf.drop(columns='index')\n",
        "\n",
        "#I had to add this abomination to get the code running\n",
        "#outputDf[\"Data Value\"] = \\\n",
        "#    pd.Series([float(string.replace(',','')) for string in outputDf[\"Data Value\"]])\n",
        "\n",
        "\n",
        "outputDf[\"Data Value\"] = columnNormalization(\"Data Value\", outputDf)\n",
        "\n",
        "inputArray = np.array(inputDf)\n",
        "outputArray = np.array(outputDf).reshape(len(outputDf), 1)\n",
        "\n",
        "inputTensor = torch.from_numpy(inputArray).unsqueeze(dim=0).type(torch.double)\n",
        "outputTensor = torch.from_numpy(outputArray).unsqueeze(dim=0).type(torch.double)\n",
        "\n",
        "partitions = partition(inputArray, outputArray, [20, 20, 20, 20, 20])\n",
        "\n",
        "\n"
      ],
      "metadata": {
        "id": "yJPByED3bfbF"
      },
      "execution_count": null,
      "outputs": []
    },
    {
      "cell_type": "markdown",
      "source": [
        "# Linear Regression Model"
      ],
      "metadata": {
        "id": "MPWjF3rKCwlQ"
      }
    },
    {
      "cell_type": "markdown",
      "source": [
        "I borrowed a goodly portion of the code from a tutorial at https://www.geeksforgeeks.org/linear-regression-using-pytorch/ "
      ],
      "metadata": {
        "id": "xAIt75upiRYs"
      }
    },
    {
      "cell_type": "code",
      "source": [
        "class LinearRegressionModel(torch.nn.Module):\n",
        "\n",
        "    def __init__(self):\n",
        "        super(LinearRegressionModel, self).__init__()\n",
        "        self.linear = torch.nn.Linear(5, 1)  # Five in and one out\n",
        "\n",
        "    def forward(self, x):\n",
        "        y_pred = self.linear(x)\n",
        "        return y_pred"
      ],
      "metadata": {
        "id": "oDWQNvj-bpCR"
      },
      "execution_count": null,
      "outputs": []
    },
    {
      "cell_type": "markdown",
      "source": [
        "Training loop, the model appears to have fitted the data, judging by the graph"
      ],
      "metadata": {
        "id": "M3ScFNl5jZOa"
      }
    },
    {
      "cell_type": "code",
      "source": [
        "#Defining an instance of the model\n",
        "our_model = LinearRegressionModel()\n",
        "\n",
        "EPOCH = 500\n",
        "#The losses are calculated for each batch if the size_average boolean is set\n",
        "  #to false\n",
        "criterion = torch.nn.MSELoss(size_average = False)\n",
        "\n",
        "#I had too lower the learning rate to avoid exploring ridiculous parameter spaces\n",
        "optimizer = torch.optim.SGD(our_model.parameters(), lr = 0.000001)\n",
        "\n",
        "losses = []\n",
        "for epoch in range(EPOCH):\n",
        "\n",
        "\t#Calculating the prediction space based on model parameters\n",
        "\tpred_y = our_model(inputTensor.float())\n",
        "\n",
        "\t# Computing loss\n",
        "\tloss = criterion(pred_y, outputTensor.float())\n",
        "\n",
        "  #The \"zero_grad()\" method  clears data on the gradient\n",
        "    #We want to recalculate the gradient at every go\n",
        "\toptimizer.zero_grad()\n",
        "\n",
        "  #Weights are updated here, a step is taken on the plane of possible\n",
        "    #parameter combinations\n",
        "\n",
        "\tloss.backward()\n",
        "\toptimizer.step()\n",
        "\n",
        "  #I store the losses to graph later\n",
        "\tlosses.append(loss.item())\n",
        "\n",
        "plt.plot(list(range(0,EPOCH)), losses)\n",
        "plt.xlabel('Epoch')\n",
        "plt.ylabel('Loss')\n",
        "plt.title('Loss vs Epoch')\n",
        "plt.show()"
      ],
      "metadata": {
        "colab": {
          "base_uri": "https://localhost:8080/",
          "height": 295
        },
        "id": "pAZyY8Y-jZ1c",
        "outputId": "da093789-0d1c-4dc2-8344-2f1e8334a705"
      },
      "execution_count": null,
      "outputs": [
        {
          "output_type": "display_data",
          "data": {
            "text/plain": [
              "<Figure size 432x288 with 1 Axes>"
            ],
            "image/png": "[encoded data removed]"
          },
          "metadata": {
            "needs_background": "light"
          }
        }
      ]
    },
    {
      "cell_type": "code",
      "source": [
        "loss_df = pd.DataFrame()"
      ],
      "metadata": {
        "id": "krkaZipxKyTI"
      },
      "execution_count": null,
      "outputs": []
    },
    {
      "cell_type": "code",
      "source": [
        "loss_df[\"LinearRegression_losses\"] = losses"
      ],
      "metadata": {
        "id": "w7arIr8xFQuy"
      },
      "execution_count": null,
      "outputs": []
    },
    {
      "cell_type": "code",
      "source": [
        "loss_df"
      ],
      "metadata": {
        "id": "TyQt_0VHFTdC",
        "colab": {
          "base_uri": "https://localhost:8080/",
          "height": 424
        },
        "outputId": "a1826b8b-a487-4460-c277-8787ab112627"
      },
      "execution_count": null,
      "outputs": [
        {
          "output_type": "execute_result",
          "data": {
            "text/plain": [
              "     LinearRegression_losses\n",
              "0                4634.988281\n",
              "1                3629.376953\n",
              "2                2886.292969\n",
              "3                2336.681641\n",
              "4                1929.659180\n",
              "..                       ...\n",
              "495               127.381073\n",
              "496               127.294838\n",
              "497               127.209030\n",
              "498               127.123642\n",
              "499               127.038673\n",
              "\n",
              "[500 rows x 1 columns]"
            ],
            "text/html": [
              "\n",
              "  <div id=\"df-6d1e0bb2-f646-4647-9aec-b8137a445cb3\">\n",
              "    <div class=\"colab-df-container\">\n",
              "      <div>\n",
              "<style scoped>\n",
              "    .dataframe tbody tr th:only-of-type {\n",
              "        vertical-align: middle;\n",
              "    }\n",
              "\n",
              "    .dataframe tbody tr th {\n",
              "        vertical-align: top;\n",
              "    }\n",
              "\n",
              "    .dataframe thead th {\n",
              "        text-align: right;\n",
              "    }\n",
              "</style>\n",
              "<table border=\"1\" class=\"dataframe\">\n",
              "  <thead>\n",
              "    <tr style=\"text-align: right;\">\n",
              "      <th></th>\n",
              "      <th>LinearRegression_losses</th>\n",
              "    </tr>\n",
              "  </thead>\n",
              "  <tbody>\n",
              "    <tr>\n",
              "      <th>0</th>\n",
              "      <td>4634.988281</td>\n",
              "    </tr>\n",
              "    <tr>\n",
              "      <th>1</th>\n",
              "      <td>3629.376953</td>\n",
              "    </tr>\n",
              "    <tr>\n",
              "      <th>2</th>\n",
              "      <td>2886.292969</td>\n",
              "    </tr>\n",
              "    <tr>\n",
              "      <th>3</th>\n",
              "      <td>2336.681641</td>\n",
              "    </tr>\n",
              "    <tr>\n",
              "      <th>4</th>\n",
              "      <td>1929.659180</td>\n",
              "    </tr>\n",
              "    <tr>\n",
              "      <th>...</th>\n",
              "      <td>...</td>\n",
              "    </tr>\n",
              "    <tr>\n",
              "      <th>495</th>\n",
              "      <td>127.381073</td>\n",
              "    </tr>\n",
              "    <tr>\n",
              "      <th>496</th>\n",
              "      <td>127.294838</td>\n",
              "    </tr>\n",
              "    <tr>\n",
              "      <th>497</th>\n",
              "      <td>127.209030</td>\n",
              "    </tr>\n",
              "    <tr>\n",
              "      <th>498</th>\n",
              "      <td>127.123642</td>\n",
              "    </tr>\n",
              "    <tr>\n",
              "      <th>499</th>\n",
              "      <td>127.038673</td>\n",
              "    </tr>\n",
              "  </tbody>\n",
              "</table>\n",
              "<p>500 rows × 1 columns</p>\n",
              "</div>\n",
              "      <button class=\"colab-df-convert\" onclick=\"convertToInteractive('df-6d1e0bb2-f646-4647-9aec-b8137a445cb3')\"\n",
              "              title=\"Convert this dataframe to an interactive table.\"\n",
              "              style=\"display:none;\">\n",
              "        \n",
              "  <svg xmlns=\"http://www.w3.org/2000/svg\" height=\"24px\"viewBox=\"0 0 24 24\"\n",
              "       width=\"24px\">\n",
              "    <path d=\"M0 0h24v24H0V0z\" fill=\"none\"/>\n",
              "    <path d=\"M18.56 5.44l.94 2.06.94-2.06 2.06-.94-2.06-.94-.94-2.06-.94 2.06-2.06.94zm-11 1L8.5 8.5l.94-2.06 2.06-.94-2.06-.94L8.5 2.5l-.94 2.06-2.06.94zm10 10l.94 2.06.94-2.06 2.06-.94-2.06-.94-.94-2.06-.94 2.06-2.06.94z\"/><path d=\"M17.41 7.96l-1.37-1.37c-.4-.4-.92-.59-1.43-.59-.52 0-1.04.2-1.43.59L10.3 9.45l-7.72 7.72c-.78.78-.78 2.05 0 2.83L4 21.41c.39.39.9.59 1.41.59.51 0 1.02-.2 1.41-.59l7.78-7.78 2.81-2.81c.8-.78.8-2.07 0-2.86zM5.41 20L4 18.59l7.72-7.72 1.47 1.35L5.41 20z\"/>\n",
              "  </svg>\n",
              "      </button>\n",
              "      \n",
              "  <style>\n",
              "    .colab-df-container {\n",
              "      display:flex;\n",
              "      flex-wrap:wrap;\n",
              "      gap: 12px;\n",
              "    }\n",
              "\n",
              "    .colab-df-convert {\n",
              "      background-color: #E8F0FE;\n",
              "      border: none;\n",
              "      border-radius: 50%;\n",
              "      cursor: pointer;\n",
              "      display: none;\n",
              "      fill: #1967D2;\n",
              "      height: 32px;\n",
              "      padding: 0 0 0 0;\n",
              "      width: 32px;\n",
              "    }\n",
              "\n",
              "    .colab-df-convert:hover {\n",
              "      background-color: #E2EBFA;\n",
              "      box-shadow: 0px 1px 2px rgba(60, 64, 67, 0.3), 0px 1px 3px 1px rgba(60, 64, 67, 0.15);\n",
              "      fill: #174EA6;\n",
              "    }\n",
              "\n",
              "    [theme=dark] .colab-df-convert {\n",
              "      background-color: #3B4455;\n",
              "      fill: #D2E3FC;\n",
              "    }\n",
              "\n",
              "    [theme=dark] .colab-df-convert:hover {\n",
              "      background-color: #434B5C;\n",
              "      box-shadow: 0px 1px 3px 1px rgba(0, 0, 0, 0.15);\n",
              "      filter: drop-shadow(0px 1px 2px rgba(0, 0, 0, 0.3));\n",
              "      fill: #FFFFFF;\n",
              "    }\n",
              "  </style>\n",
              "\n",
              "      <script>\n",
              "        const buttonEl =\n",
              "          document.querySelector('#df-6d1e0bb2-f646-4647-9aec-b8137a445cb3 button.colab-df-convert');\n",
              "        buttonEl.style.display =\n",
              "          google.colab.kernel.accessAllowed ? 'block' : 'none';\n",
              "\n",
              "        async function convertToInteractive(key) {\n",
              "          const element = document.querySelector('#df-6d1e0bb2-f646-4647-9aec-b8137a445cb3');\n",
              "          const dataTable =\n",
              "            await google.colab.kernel.invokeFunction('convertToInteractive',\n",
              "                                                     [key], {});\n",
              "          if (!dataTable) return;\n",
              "\n",
              "          const docLinkHtml = 'Like what you see? Visit the ' +\n",
              "            '<a target=\"_blank\" href=https://colab.research.google.com/notebooks/data_table.ipynb>data table notebook</a>'\n",
              "            + ' to learn more about interactive tables.';\n",
              "          element.innerHTML = '';\n",
              "          dataTable['output_type'] = 'display_data';\n",
              "          await google.colab.output.renderOutput(dataTable, element);\n",
              "          const docLink = document.createElement('div');\n",
              "          docLink.innerHTML = docLinkHtml;\n",
              "          element.appendChild(docLink);\n",
              "        }\n",
              "      </script>\n",
              "    </div>\n",
              "  </div>\n",
              "  "
            ]
          },
          "metadata": {},
          "execution_count": 23
        }
      ]
    },
    {
      "cell_type": "code",
      "source": [
        "loss_df.to_csv(\"LinearRegression_losses.csv\")"
      ],
      "metadata": {
        "id": "8GCtAPoPLHuN"
      },
      "execution_count": null,
      "outputs": []
    },
    {
      "cell_type": "code",
      "source": [
        "from google.colab import drive\n",
        "drive.mount('/content/drive')"
      ],
      "metadata": {
        "id": "5YQ27kWCMMvn"
      },
      "execution_count": null,
      "outputs": []
    },
    {
      "cell_type": "code",
      "source": [
        "min(losses)"
      ],
      "metadata": {
        "colab": {
          "base_uri": "https://localhost:8080/"
        },
        "id": "mMFKS207LSs9",
        "outputId": "704fbfee-152f-4a5d-dd7b-5747f20efcde"
      },
      "execution_count": null,
      "outputs": [
        {
          "output_type": "execute_result",
          "data": {
            "text/plain": [
              "127.0386734008789"
            ]
          },
          "metadata": {},
          "execution_count": 25
        }
      ]
    },
    {
      "cell_type": "code",
      "source": [],
      "metadata": {
        "id": "rpVQa2VIQgNM"
      },
      "execution_count": null,
      "outputs": []
    }
  ]
}