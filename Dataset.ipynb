{
  "nbformat": 4,
  "nbformat_minor": 0,
  "metadata": {
    "colab": {
      "provenance": [],
      "include_colab_link": true
    },
    "kernelspec": {
      "name": "python3",
      "display_name": "Python 3"
    },
    "language_info": {
      "name": "python"
    }
  },
  "cells": [
    {
      "cell_type": "markdown",
      "metadata": {
        "id": "view-in-github",
        "colab_type": "text"
      },
      "source": [
        "<a href=\"https://colab.research.google.com/github/alexmplastow/IE534-CS547-Emmerson/blob/main/Dataset.ipynb\" target=\"_parent\"><img src=\"https://colab.research.google.com/assets/colab-badge.svg\" alt=\"Open In Colab\"/></a>"
      ]
    },
    {
      "cell_type": "code",
      "execution_count": null,
      "metadata": {
        "id": "IDjsbs2dh2Aa"
      },
      "outputs": [],
      "source": [
        "import pandas as pd"
      ]
    },
    {
      "cell_type": "markdown",
      "source": [
        "https://www.cdc.gov/nchs/nvss/vsrr/drug-overdose-data.htmmm"
      ],
      "metadata": {
        "id": "fY7xHazbh_8b"
      }
    },
    {
      "cell_type": "code",
      "source": [
        "!wget -c https://data.cdc.gov/api/views/xkb8-kh2a/rows.csv?accessType=DOWNLOAD&bom=true&format=true -O Drug_Overdose_Deaths.csv #name did not changed..."
      ],
      "metadata": {
        "colab": {
          "base_uri": "https://localhost:8080/"
        },
        "id": "9xeYBBmoiBfg",
        "outputId": "09c601d8-9c62-4d4c-9b37-f878ed32cdea"
      },
      "execution_count": null,
      "outputs": [
        {
          "output_type": "stream",
          "name": "stdout",
          "text": [
            "/bin/bash: -O: command not found\n",
            "--2022-12-09 03:44:07--  https://data.cdc.gov/api/views/xkb8-kh2a/rows.csv?accessType=DOWNLOAD\n",
            "Resolving data.cdc.gov (data.cdc.gov)... 52.206.140.205, 52.206.68.26, 52.206.140.199\n",
            "Connecting to data.cdc.gov (data.cdc.gov)|52.206.140.205|:443... connected.\n",
            "HTTP request sent, awaiting response... 200 OK\n",
            "Length: unspecified [text/csv]\n",
            "Saving to: ‘rows.csv?accessType=DOWNLOAD’\n",
            "\n",
            "rows.csv?accessType     [      <=>           ]   9.20M  5.53MB/s    in 1.7s    \n",
            "\n",
            "2022-12-09 03:44:10 (5.53 MB/s) - ‘rows.csv?accessType=DOWNLOAD’ saved [9651249]\n",
            "\n"
          ]
        }
      ]
    },
    {
      "cell_type": "code",
      "source": [
        "!ls -alh"
      ],
      "metadata": {
        "colab": {
          "base_uri": "https://localhost:8080/"
        },
        "id": "xRafR3YkiGXq",
        "outputId": "90641647-0ec4-40c9-b9ae-80b65601189a"
      },
      "execution_count": null,
      "outputs": [
        {
          "output_type": "stream",
          "name": "stdout",
          "text": [
            "total 9.3M\n",
            "drwxr-xr-x 1 root root 4.0K Dec  9 03:44  .\n",
            "drwxr-xr-x 1 root root 4.0K Dec  9 03:43  ..\n",
            "drwxr-xr-x 4 root root 4.0K Dec  7 14:40  .config\n",
            "-rw-r--r-- 1 root root 9.3M Nov 16 14:52 'rows.csv?accessType=DOWNLOAD'\n",
            "drwxr-xr-x 1 root root 4.0K Dec  7 14:41  sample_data\n"
          ]
        }
      ]
    },
    {
      "cell_type": "code",
      "source": [
        "!head 'rows.csv?accessType=DOWNLOAD'"
      ],
      "metadata": {
        "id": "ObNIAhNljhWQ",
        "colab": {
          "base_uri": "https://localhost:8080/"
        },
        "outputId": "b3d433a7-d604-4c34-8ee8-aa696f9dc519"
      },
      "execution_count": null,
      "outputs": [
        {
          "output_type": "stream",
          "name": "stdout",
          "text": [
            "State,Year,Month,Period,Indicator,Data Value,Percent Complete,Percent Pending Investigation,State Name,Footnote,Footnote Symbol,Predicted Value\n",
            "AK,2015,April,12 month-ending,Percent with drugs specified,88.0952381,100,0,Alaska,Numbers may differ from published reports using final data. See Technical Notes.,**,\n",
            "AK,2015,April,12 month-ending,\"Opioids (T40.0-T40.4,T40.6)\",,100,0,Alaska,Numbers may differ from published reports using final data. See Technical Notes.  Data not shown due to low data quality.,**,\n",
            "AK,2015,April,12 month-ending,\"Synthetic opioids, excl. methadone (T40.4)\",,100,0,Alaska,Numbers may differ from published reports using final data. See Technical Notes.  Data not shown due to low data quality.,**,\n",
            "AK,2015,April,12 month-ending,\"Natural & semi-synthetic opioids, incl. methadone (T40.2, T40.3)\",,100,0,Alaska,Numbers may differ from published reports using final data. See Technical Notes.  Data not shown due to low data quality.,**,\n",
            "AK,2015,April,12 month-ending,Number of Drug Overdose Deaths,126,100,0,Alaska,Numbers may differ from published reports using final data. See Technical Notes.,**,126\n",
            "AK,2015,April,12 month-ending,Methadone (T40.3),,100,0,Alaska,Numbers may differ from published reports using final data. See Technical Notes.  Data suppressed (<10).  Data not shown due to low data quality.,**,\n",
            "AK,2015,April,12 month-ending,Number of Deaths,4133,100,0,Alaska,Numbers may differ from published reports using final data. See Technical Notes.,**,\n",
            "AK,2015,April,12 month-ending,Psychostimulants with abuse potential (T43.6),,100,0,Alaska,Numbers may differ from published reports using final data. See Technical Notes.  Data not shown due to low data quality.,**,\n",
            "AK,2015,April,12 month-ending,\"Natural, semi-synthetic, & synthetic opioids, incl. methadone (T40.2-T40.4)\",,100,0,Alaska,Numbers may differ from published reports using final data. See Technical Notes.  Data not shown due to low data quality.,**,\n"
          ]
        }
      ]
    },
    {
      "cell_type": "code",
      "source": [],
      "metadata": {
        "id": "ZeLHiPiBkNBv"
      },
      "execution_count": null,
      "outputs": []
    },
    {
      "cell_type": "code",
      "source": [
        "df = pd.read_csv('rows.csv?accessType=DOWNLOAD')"
      ],
      "metadata": {
        "id": "mOUBLPCYiKkj"
      },
      "execution_count": null,
      "outputs": []
    },
    {
      "cell_type": "code",
      "source": [
        "#The command is \"pandas.read_pickle(filepath)\" in case anyone wants\n",
        "  #to retrieve the data\n",
        "df.to_pickle('/home/drugReaction.pkl')"
      ],
      "metadata": {
        "id": "3NVwr4c-d75H"
      },
      "execution_count": null,
      "outputs": []
    },
    {
      "cell_type": "code",
      "source": [
        "df"
      ],
      "metadata": {
        "id": "6qZ7VFfuiQap",
        "colab": {
          "base_uri": "https://localhost:8080/",
          "height": 650
        },
        "outputId": "7c958a76-b8fc-41b6-e98a-8c2b85e3b873"
      },
      "execution_count": null,
      "outputs": [
        {
          "output_type": "execute_result",
          "data": {
            "text/plain": [
              "      State  Year  Month           Period  \\\n",
              "0        AK  2015  April  12 month-ending   \n",
              "1        AK  2015  April  12 month-ending   \n",
              "2        AK  2015  April  12 month-ending   \n",
              "3        AK  2015  April  12 month-ending   \n",
              "4        AK  2015  April  12 month-ending   \n",
              "...     ...   ...    ...              ...   \n",
              "53185    YC  2022    May  12 month-ending   \n",
              "53186    YC  2022    May  12 month-ending   \n",
              "53187    YC  2022    May  12 month-ending   \n",
              "53188    YC  2022    May  12 month-ending   \n",
              "53189    YC  2022    May  12 month-ending   \n",
              "\n",
              "                                               Indicator   Data Value  \\\n",
              "0                           Percent with drugs specified    88.095238   \n",
              "1                            Opioids (T40.0-T40.4,T40.6)          NaN   \n",
              "2             Synthetic opioids, excl. methadone (T40.4)          NaN   \n",
              "3      Natural & semi-synthetic opioids, incl. methad...          NaN   \n",
              "4                         Number of Drug Overdose Deaths   126.000000   \n",
              "...                                                  ...          ...   \n",
              "53185                       Percent with drugs specified    99.538680   \n",
              "53186                                    Cocaine (T40.5)  1321.000000   \n",
              "53187                     Number of Drug Overdose Deaths  2818.000000   \n",
              "53188           Natural & semi-synthetic opioids (T40.2)   468.000000   \n",
              "53189         Synthetic opioids, excl. methadone (T40.4)  2225.000000   \n",
              "\n",
              "       Percent Complete  Percent Pending Investigation     State Name  \\\n",
              "0                   100                       0.000000         Alaska   \n",
              "1                   100                       0.000000         Alaska   \n",
              "2                   100                       0.000000         Alaska   \n",
              "3                   100                       0.000000         Alaska   \n",
              "4                   100                       0.000000         Alaska   \n",
              "...                 ...                            ...            ...   \n",
              "53185               100                       0.370425  New York City   \n",
              "53186               100                       0.370425  New York City   \n",
              "53187               100                       0.370425  New York City   \n",
              "53188               100                       0.370425  New York City   \n",
              "53189               100                       0.370425  New York City   \n",
              "\n",
              "                                                Footnote Footnote Symbol  \\\n",
              "0      Numbers may differ from published reports usin...              **   \n",
              "1      Numbers may differ from published reports usin...              **   \n",
              "2      Numbers may differ from published reports usin...              **   \n",
              "3      Numbers may differ from published reports usin...              **   \n",
              "4      Numbers may differ from published reports usin...              **   \n",
              "...                                                  ...             ...   \n",
              "53185              Underreported due to incomplete data.               *   \n",
              "53186              Underreported due to incomplete data.               *   \n",
              "53187              Underreported due to incomplete data.               *   \n",
              "53188              Underreported due to incomplete data.               *   \n",
              "53189              Underreported due to incomplete data.               *   \n",
              "\n",
              "       Predicted Value  \n",
              "0                  NaN  \n",
              "1                  NaN  \n",
              "2                  NaN  \n",
              "3                  NaN  \n",
              "4                126.0  \n",
              "...                ...  \n",
              "53185              NaN  \n",
              "53186           1392.0  \n",
              "53187           2940.0  \n",
              "53188            488.0  \n",
              "53189           2336.0  \n",
              "\n",
              "[53190 rows x 12 columns]"
            ],
            "text/html": [
              "\n",
              "  <div id=\"df-ef00526e-b965-4bef-a8e7-e0b0305d3668\">\n",
              "    <div class=\"colab-df-container\">\n",
              "      <div>\n",
              "<style scoped>\n",
              "    .dataframe tbody tr th:only-of-type {\n",
              "        vertical-align: middle;\n",
              "    }\n",
              "\n",
              "    .dataframe tbody tr th {\n",
              "        vertical-align: top;\n",
              "    }\n",
              "\n",
              "    .dataframe thead th {\n",
              "        text-align: right;\n",
              "    }\n",
              "</style>\n",
              "<table border=\"1\" class=\"dataframe\">\n",
              "  <thead>\n",
              "    <tr style=\"text-align: right;\">\n",
              "      <th></th>\n",
              "      <th>State</th>\n",
              "      <th>Year</th>\n",
              "      <th>Month</th>\n",
              "      <th>Period</th>\n",
              "      <th>Indicator</th>\n",
              "      <th>Data Value</th>\n",
              "      <th>Percent Complete</th>\n",
              "      <th>Percent Pending Investigation</th>\n",
              "      <th>State Name</th>\n",
              "      <th>Footnote</th>\n",
              "      <th>Footnote Symbol</th>\n",
              "      <th>Predicted Value</th>\n",
              "    </tr>\n",
              "  </thead>\n",
              "  <tbody>\n",
              "    <tr>\n",
              "      <th>0</th>\n",
              "      <td>AK</td>\n",
              "      <td>2015</td>\n",
              "      <td>April</td>\n",
              "      <td>12 month-ending</td>\n",
              "      <td>Percent with drugs specified</td>\n",
              "      <td>88.095238</td>\n",
              "      <td>100</td>\n",
              "      <td>0.000000</td>\n",
              "      <td>Alaska</td>\n",
              "      <td>Numbers may differ from published reports usin...</td>\n",
              "      <td>**</td>\n",
              "      <td>NaN</td>\n",
              "    </tr>\n",
              "    <tr>\n",
              "      <th>1</th>\n",
              "      <td>AK</td>\n",
              "      <td>2015</td>\n",
              "      <td>April</td>\n",
              "      <td>12 month-ending</td>\n",
              "      <td>Opioids (T40.0-T40.4,T40.6)</td>\n",
              "      <td>NaN</td>\n",
              "      <td>100</td>\n",
              "      <td>0.000000</td>\n",
              "      <td>Alaska</td>\n",
              "      <td>Numbers may differ from published reports usin...</td>\n",
              "      <td>**</td>\n",
              "      <td>NaN</td>\n",
              "    </tr>\n",
              "    <tr>\n",
              "      <th>2</th>\n",
              "      <td>AK</td>\n",
              "      <td>2015</td>\n",
              "      <td>April</td>\n",
              "      <td>12 month-ending</td>\n",
              "      <td>Synthetic opioids, excl. methadone (T40.4)</td>\n",
              "      <td>NaN</td>\n",
              "      <td>100</td>\n",
              "      <td>0.000000</td>\n",
              "      <td>Alaska</td>\n",
              "      <td>Numbers may differ from published reports usin...</td>\n",
              "      <td>**</td>\n",
              "      <td>NaN</td>\n",
              "    </tr>\n",
              "    <tr>\n",
              "      <th>3</th>\n",
              "      <td>AK</td>\n",
              "      <td>2015</td>\n",
              "      <td>April</td>\n",
              "      <td>12 month-ending</td>\n",
              "      <td>Natural &amp; semi-synthetic opioids, incl. methad...</td>\n",
              "      <td>NaN</td>\n",
              "      <td>100</td>\n",
              "      <td>0.000000</td>\n",
              "      <td>Alaska</td>\n",
              "      <td>Numbers may differ from published reports usin...</td>\n",
              "      <td>**</td>\n",
              "      <td>NaN</td>\n",
              "    </tr>\n",
              "    <tr>\n",
              "      <th>4</th>\n",
              "      <td>AK</td>\n",
              "      <td>2015</td>\n",
              "      <td>April</td>\n",
              "      <td>12 month-ending</td>\n",
              "      <td>Number of Drug Overdose Deaths</td>\n",
              "      <td>126.000000</td>\n",
              "      <td>100</td>\n",
              "      <td>0.000000</td>\n",
              "      <td>Alaska</td>\n",
              "      <td>Numbers may differ from published reports usin...</td>\n",
              "      <td>**</td>\n",
              "      <td>126.0</td>\n",
              "    </tr>\n",
              "    <tr>\n",
              "      <th>...</th>\n",
              "      <td>...</td>\n",
              "      <td>...</td>\n",
              "      <td>...</td>\n",
              "      <td>...</td>\n",
              "      <td>...</td>\n",
              "      <td>...</td>\n",
              "      <td>...</td>\n",
              "      <td>...</td>\n",
              "      <td>...</td>\n",
              "      <td>...</td>\n",
              "      <td>...</td>\n",
              "      <td>...</td>\n",
              "    </tr>\n",
              "    <tr>\n",
              "      <th>53185</th>\n",
              "      <td>YC</td>\n",
              "      <td>2022</td>\n",
              "      <td>May</td>\n",
              "      <td>12 month-ending</td>\n",
              "      <td>Percent with drugs specified</td>\n",
              "      <td>99.538680</td>\n",
              "      <td>100</td>\n",
              "      <td>0.370425</td>\n",
              "      <td>New York City</td>\n",
              "      <td>Underreported due to incomplete data.</td>\n",
              "      <td>*</td>\n",
              "      <td>NaN</td>\n",
              "    </tr>\n",
              "    <tr>\n",
              "      <th>53186</th>\n",
              "      <td>YC</td>\n",
              "      <td>2022</td>\n",
              "      <td>May</td>\n",
              "      <td>12 month-ending</td>\n",
              "      <td>Cocaine (T40.5)</td>\n",
              "      <td>1321.000000</td>\n",
              "      <td>100</td>\n",
              "      <td>0.370425</td>\n",
              "      <td>New York City</td>\n",
              "      <td>Underreported due to incomplete data.</td>\n",
              "      <td>*</td>\n",
              "      <td>1392.0</td>\n",
              "    </tr>\n",
              "    <tr>\n",
              "      <th>53187</th>\n",
              "      <td>YC</td>\n",
              "      <td>2022</td>\n",
              "      <td>May</td>\n",
              "      <td>12 month-ending</td>\n",
              "      <td>Number of Drug Overdose Deaths</td>\n",
              "      <td>2818.000000</td>\n",
              "      <td>100</td>\n",
              "      <td>0.370425</td>\n",
              "      <td>New York City</td>\n",
              "      <td>Underreported due to incomplete data.</td>\n",
              "      <td>*</td>\n",
              "      <td>2940.0</td>\n",
              "    </tr>\n",
              "    <tr>\n",
              "      <th>53188</th>\n",
              "      <td>YC</td>\n",
              "      <td>2022</td>\n",
              "      <td>May</td>\n",
              "      <td>12 month-ending</td>\n",
              "      <td>Natural &amp; semi-synthetic opioids (T40.2)</td>\n",
              "      <td>468.000000</td>\n",
              "      <td>100</td>\n",
              "      <td>0.370425</td>\n",
              "      <td>New York City</td>\n",
              "      <td>Underreported due to incomplete data.</td>\n",
              "      <td>*</td>\n",
              "      <td>488.0</td>\n",
              "    </tr>\n",
              "    <tr>\n",
              "      <th>53189</th>\n",
              "      <td>YC</td>\n",
              "      <td>2022</td>\n",
              "      <td>May</td>\n",
              "      <td>12 month-ending</td>\n",
              "      <td>Synthetic opioids, excl. methadone (T40.4)</td>\n",
              "      <td>2225.000000</td>\n",
              "      <td>100</td>\n",
              "      <td>0.370425</td>\n",
              "      <td>New York City</td>\n",
              "      <td>Underreported due to incomplete data.</td>\n",
              "      <td>*</td>\n",
              "      <td>2336.0</td>\n",
              "    </tr>\n",
              "  </tbody>\n",
              "</table>\n",
              "<p>53190 rows × 12 columns</p>\n",
              "</div>\n",
              "      <button class=\"colab-df-convert\" onclick=\"convertToInteractive('df-ef00526e-b965-4bef-a8e7-e0b0305d3668')\"\n",
              "              title=\"Convert this dataframe to an interactive table.\"\n",
              "              style=\"display:none;\">\n",
              "        \n",
              "  <svg xmlns=\"http://www.w3.org/2000/svg\" height=\"24px\"viewBox=\"0 0 24 24\"\n",
              "       width=\"24px\">\n",
              "    <path d=\"M0 0h24v24H0V0z\" fill=\"none\"/>\n",
              "    <path d=\"M18.56 5.44l.94 2.06.94-2.06 2.06-.94-2.06-.94-.94-2.06-.94 2.06-2.06.94zm-11 1L8.5 8.5l.94-2.06 2.06-.94-2.06-.94L8.5 2.5l-.94 2.06-2.06.94zm10 10l.94 2.06.94-2.06 2.06-.94-2.06-.94-.94-2.06-.94 2.06-2.06.94z\"/><path d=\"M17.41 7.96l-1.37-1.37c-.4-.4-.92-.59-1.43-.59-.52 0-1.04.2-1.43.59L10.3 9.45l-7.72 7.72c-.78.78-.78 2.05 0 2.83L4 21.41c.39.39.9.59 1.41.59.51 0 1.02-.2 1.41-.59l7.78-7.78 2.81-2.81c.8-.78.8-2.07 0-2.86zM5.41 20L4 18.59l7.72-7.72 1.47 1.35L5.41 20z\"/>\n",
              "  </svg>\n",
              "      </button>\n",
              "      \n",
              "  <style>\n",
              "    .colab-df-container {\n",
              "      display:flex;\n",
              "      flex-wrap:wrap;\n",
              "      gap: 12px;\n",
              "    }\n",
              "\n",
              "    .colab-df-convert {\n",
              "      background-color: #E8F0FE;\n",
              "      border: none;\n",
              "      border-radius: 50%;\n",
              "      cursor: pointer;\n",
              "      display: none;\n",
              "      fill: #1967D2;\n",
              "      height: 32px;\n",
              "      padding: 0 0 0 0;\n",
              "      width: 32px;\n",
              "    }\n",
              "\n",
              "    .colab-df-convert:hover {\n",
              "      background-color: #E2EBFA;\n",
              "      box-shadow: 0px 1px 2px rgba(60, 64, 67, 0.3), 0px 1px 3px 1px rgba(60, 64, 67, 0.15);\n",
              "      fill: #174EA6;\n",
              "    }\n",
              "\n",
              "    [theme=dark] .colab-df-convert {\n",
              "      background-color: #3B4455;\n",
              "      fill: #D2E3FC;\n",
              "    }\n",
              "\n",
              "    [theme=dark] .colab-df-convert:hover {\n",
              "      background-color: #434B5C;\n",
              "      box-shadow: 0px 1px 3px 1px rgba(0, 0, 0, 0.15);\n",
              "      filter: drop-shadow(0px 1px 2px rgba(0, 0, 0, 0.3));\n",
              "      fill: #FFFFFF;\n",
              "    }\n",
              "  </style>\n",
              "\n",
              "      <script>\n",
              "        const buttonEl =\n",
              "          document.querySelector('#df-ef00526e-b965-4bef-a8e7-e0b0305d3668 button.colab-df-convert');\n",
              "        buttonEl.style.display =\n",
              "          google.colab.kernel.accessAllowed ? 'block' : 'none';\n",
              "\n",
              "        async function convertToInteractive(key) {\n",
              "          const element = document.querySelector('#df-ef00526e-b965-4bef-a8e7-e0b0305d3668');\n",
              "          const dataTable =\n",
              "            await google.colab.kernel.invokeFunction('convertToInteractive',\n",
              "                                                     [key], {});\n",
              "          if (!dataTable) return;\n",
              "\n",
              "          const docLinkHtml = 'Like what you see? Visit the ' +\n",
              "            '<a target=\"_blank\" href=https://colab.research.google.com/notebooks/data_table.ipynb>data table notebook</a>'\n",
              "            + ' to learn more about interactive tables.';\n",
              "          element.innerHTML = '';\n",
              "          dataTable['output_type'] = 'display_data';\n",
              "          await google.colab.output.renderOutput(dataTable, element);\n",
              "          const docLink = document.createElement('div');\n",
              "          docLink.innerHTML = docLinkHtml;\n",
              "          element.appendChild(docLink);\n",
              "        }\n",
              "      </script>\n",
              "    </div>\n",
              "  </div>\n",
              "  "
            ]
          },
          "metadata": {},
          "execution_count": 7
        }
      ]
    },
    {
      "cell_type": "code",
      "source": [
        "df.columns"
      ],
      "metadata": {
        "colab": {
          "base_uri": "https://localhost:8080/"
        },
        "id": "5uNyyRJpldde",
        "outputId": "2318783b-bd84-4367-c656-47b1c56659a4"
      },
      "execution_count": null,
      "outputs": [
        {
          "output_type": "execute_result",
          "data": {
            "text/plain": [
              "Index(['State', 'Year', 'Month', 'Period', 'Indicator', 'Data Value',\n",
              "       'Percent Complete', 'Percent Pending Investigation', 'State Name',\n",
              "       'Footnote', 'Footnote Symbol', 'Predicted Value'],\n",
              "      dtype='object')"
            ]
          },
          "metadata": {},
          "execution_count": 8
        }
      ]
    },
    {
      "cell_type": "code",
      "source": [
        "df['State'].value_counts()"
      ],
      "metadata": {
        "id": "RSBHWjxZkWZR",
        "colab": {
          "base_uri": "https://localhost:8080/"
        },
        "outputId": "5661c4ad-4e2f-4a74-fc0c-29b0773a9f37"
      },
      "execution_count": null,
      "outputs": [
        {
          "output_type": "execute_result",
          "data": {
            "text/plain": [
              "AK    1080\n",
              "MS    1080\n",
              "NH    1080\n",
              "NJ    1080\n",
              "NM    1080\n",
              "NV    1080\n",
              "NY    1080\n",
              "OH    1080\n",
              "OK    1080\n",
              "OR    1080\n",
              "RI    1080\n",
              "SC    1080\n",
              "SD    1080\n",
              "TN    1080\n",
              "TX    1080\n",
              "US    1080\n",
              "UT    1080\n",
              "VA    1080\n",
              "VT    1080\n",
              "WA    1080\n",
              "WI    1080\n",
              "WV    1080\n",
              "WY    1080\n",
              "NC    1080\n",
              "MT    1080\n",
              "MO    1080\n",
              "ID    1080\n",
              "AR    1080\n",
              "AZ    1080\n",
              "CA    1080\n",
              "CO    1080\n",
              "CT    1080\n",
              "DC    1080\n",
              "DE    1080\n",
              "FL    1080\n",
              "GA    1080\n",
              "HI    1080\n",
              "IA    1080\n",
              "IL    1080\n",
              "IN    1080\n",
              "KS    1080\n",
              "KY    1080\n",
              "MA    1080\n",
              "MD    1080\n",
              "ME    1080\n",
              "MI    1080\n",
              "MN    1080\n",
              "YC    1080\n",
              "AL     270\n",
              "PA     270\n",
              "LA     270\n",
              "NE     270\n",
              "ND     270\n",
              "Name: State, dtype: int64"
            ]
          },
          "metadata": {},
          "execution_count": 9
        }
      ]
    },
    {
      "cell_type": "code",
      "source": [
        "df['State'].describe()"
      ],
      "metadata": {
        "colab": {
          "base_uri": "https://localhost:8080/"
        },
        "id": "C00woFn2ksHA",
        "outputId": "b624d45a-42d4-4820-ad82-fe8232406d0f"
      },
      "execution_count": null,
      "outputs": [
        {
          "output_type": "execute_result",
          "data": {
            "text/plain": [
              "count     53190\n",
              "unique       53\n",
              "top          AK\n",
              "freq       1080\n",
              "Name: State, dtype: object"
            ]
          },
          "metadata": {},
          "execution_count": 10
        }
      ]
    },
    {
      "cell_type": "code",
      "source": [
        "df['Indicator'].value_counts() #how many type of drugs?"
      ],
      "metadata": {
        "colab": {
          "base_uri": "https://localhost:8080/"
        },
        "id": "uBfHveGmk8pR",
        "outputId": "8fcd9be8-61d3-4ec3-e608-e6f6319ade64"
      },
      "execution_count": null,
      "outputs": [
        {
          "output_type": "execute_result",
          "data": {
            "text/plain": [
              "Percent with drugs specified                                                   4770\n",
              "Number of Drug Overdose Deaths                                                 4770\n",
              "Number of Deaths                                                               4770\n",
              "Opioids (T40.0-T40.4,T40.6)                                                    4320\n",
              "Synthetic opioids, excl. methadone (T40.4)                                     4320\n",
              "Natural & semi-synthetic opioids, incl. methadone (T40.2, T40.3)               4320\n",
              "Methadone (T40.3)                                                              4320\n",
              "Psychostimulants with abuse potential (T43.6)                                  4320\n",
              "Natural, semi-synthetic, & synthetic opioids, incl. methadone (T40.2-T40.4)    4320\n",
              "Heroin (T40.1)                                                                 4320\n",
              "Natural & semi-synthetic opioids (T40.2)                                       4320\n",
              "Cocaine (T40.5)                                                                4320\n",
              "Name: Indicator, dtype: int64"
            ]
          },
          "metadata": {},
          "execution_count": 11
        }
      ]
    },
    {
      "cell_type": "code",
      "source": [
        "df['Data Value'].describe() "
      ],
      "metadata": {
        "colab": {
          "base_uri": "https://localhost:8080/"
        },
        "id": "xvUzh1I1mUEX",
        "outputId": "2fc4cf73-7d20-411d-c1eb-31d8eb3720df"
      },
      "execution_count": null,
      "outputs": [
        {
          "output_type": "execute_result",
          "data": {
            "text/plain": [
              "count    4.318900e+04\n",
              "mean     1.340984e+04\n",
              "std      1.377870e+05\n",
              "min      1.000000e+01\n",
              "25%      9.585492e+01\n",
              "50%      3.100000e+02\n",
              "75%      1.202000e+03\n",
              "max      3.538073e+06\n",
              "Name: Data Value, dtype: float64"
            ]
          },
          "metadata": {},
          "execution_count": 12
        }
      ]
    },
    {
      "cell_type": "code",
      "source": [
        "#Why there is a 'Predicted Value'?"
      ],
      "metadata": {
        "id": "F_RSdCMUmks-"
      },
      "execution_count": null,
      "outputs": []
    },
    {
      "cell_type": "code",
      "source": [
        "#Data Value should be the Drug Over Dose Death number corresponding to the Indicator\n",
        "df['Data Value'].isna().sum() #should drop Nan first?"
      ],
      "metadata": {
        "colab": {
          "base_uri": "https://localhost:8080/"
        },
        "id": "3Eu7Y1Yim-gp",
        "outputId": "7f9f1e0f-66f0-443d-9e7b-5787dd3ecde9"
      },
      "execution_count": null,
      "outputs": [
        {
          "output_type": "execute_result",
          "data": {
            "text/plain": [
              "10001"
            ]
          },
          "metadata": {},
          "execution_count": 13
        }
      ]
    },
    {
      "cell_type": "code",
      "source": [
        "df['Predicted Value'].isna().sum()"
      ],
      "metadata": {
        "colab": {
          "base_uri": "https://localhost:8080/"
        },
        "id": "1sVO_-VNnjSd",
        "outputId": "31d70dd3-979d-4bcb-cb21-2272ad66f1a6"
      },
      "execution_count": null,
      "outputs": [
        {
          "output_type": "execute_result",
          "data": {
            "text/plain": [
              "19324"
            ]
          },
          "metadata": {},
          "execution_count": 14
        }
      ]
    },
    {
      "cell_type": "code",
      "source": [
        "df"
      ],
      "metadata": {
        "id": "DGqN01S2nr2M",
        "colab": {
          "base_uri": "https://localhost:8080/",
          "height": 650
        },
        "outputId": "44f98018-7a32-4fe5-dddd-9ca8d91c5289"
      },
      "execution_count": null,
      "outputs": [
        {
          "output_type": "execute_result",
          "data": {
            "text/plain": [
              "      State  Year  Month           Period  \\\n",
              "0        AK  2015  April  12 month-ending   \n",
              "1        AK  2015  April  12 month-ending   \n",
              "2        AK  2015  April  12 month-ending   \n",
              "3        AK  2015  April  12 month-ending   \n",
              "4        AK  2015  April  12 month-ending   \n",
              "...     ...   ...    ...              ...   \n",
              "53185    YC  2022    May  12 month-ending   \n",
              "53186    YC  2022    May  12 month-ending   \n",
              "53187    YC  2022    May  12 month-ending   \n",
              "53188    YC  2022    May  12 month-ending   \n",
              "53189    YC  2022    May  12 month-ending   \n",
              "\n",
              "                                               Indicator   Data Value  \\\n",
              "0                           Percent with drugs specified    88.095238   \n",
              "1                            Opioids (T40.0-T40.4,T40.6)          NaN   \n",
              "2             Synthetic opioids, excl. methadone (T40.4)          NaN   \n",
              "3      Natural & semi-synthetic opioids, incl. methad...          NaN   \n",
              "4                         Number of Drug Overdose Deaths   126.000000   \n",
              "...                                                  ...          ...   \n",
              "53185                       Percent with drugs specified    99.538680   \n",
              "53186                                    Cocaine (T40.5)  1321.000000   \n",
              "53187                     Number of Drug Overdose Deaths  2818.000000   \n",
              "53188           Natural & semi-synthetic opioids (T40.2)   468.000000   \n",
              "53189         Synthetic opioids, excl. methadone (T40.4)  2225.000000   \n",
              "\n",
              "       Percent Complete  Percent Pending Investigation     State Name  \\\n",
              "0                   100                       0.000000         Alaska   \n",
              "1                   100                       0.000000         Alaska   \n",
              "2                   100                       0.000000         Alaska   \n",
              "3                   100                       0.000000         Alaska   \n",
              "4                   100                       0.000000         Alaska   \n",
              "...                 ...                            ...            ...   \n",
              "53185               100                       0.370425  New York City   \n",
              "53186               100                       0.370425  New York City   \n",
              "53187               100                       0.370425  New York City   \n",
              "53188               100                       0.370425  New York City   \n",
              "53189               100                       0.370425  New York City   \n",
              "\n",
              "                                                Footnote Footnote Symbol  \\\n",
              "0      Numbers may differ from published reports usin...              **   \n",
              "1      Numbers may differ from published reports usin...              **   \n",
              "2      Numbers may differ from published reports usin...              **   \n",
              "3      Numbers may differ from published reports usin...              **   \n",
              "4      Numbers may differ from published reports usin...              **   \n",
              "...                                                  ...             ...   \n",
              "53185              Underreported due to incomplete data.               *   \n",
              "53186              Underreported due to incomplete data.               *   \n",
              "53187              Underreported due to incomplete data.               *   \n",
              "53188              Underreported due to incomplete data.               *   \n",
              "53189              Underreported due to incomplete data.               *   \n",
              "\n",
              "       Predicted Value  \n",
              "0                  NaN  \n",
              "1                  NaN  \n",
              "2                  NaN  \n",
              "3                  NaN  \n",
              "4                126.0  \n",
              "...                ...  \n",
              "53185              NaN  \n",
              "53186           1392.0  \n",
              "53187           2940.0  \n",
              "53188            488.0  \n",
              "53189           2336.0  \n",
              "\n",
              "[53190 rows x 12 columns]"
            ],
            "text/html": [
              "\n",
              "  <div id=\"df-081638a2-d4cb-47f4-af86-0e45253b6921\">\n",
              "    <div class=\"colab-df-container\">\n",
              "      <div>\n",
              "<style scoped>\n",
              "    .dataframe tbody tr th:only-of-type {\n",
              "        vertical-align: middle;\n",
              "    }\n",
              "\n",
              "    .dataframe tbody tr th {\n",
              "        vertical-align: top;\n",
              "    }\n",
              "\n",
              "    .dataframe thead th {\n",
              "        text-align: right;\n",
              "    }\n",
              "</style>\n",
              "<table border=\"1\" class=\"dataframe\">\n",
              "  <thead>\n",
              "    <tr style=\"text-align: right;\">\n",
              "      <th></th>\n",
              "      <th>State</th>\n",
              "      <th>Year</th>\n",
              "      <th>Month</th>\n",
              "      <th>Period</th>\n",
              "      <th>Indicator</th>\n",
              "      <th>Data Value</th>\n",
              "      <th>Percent Complete</th>\n",
              "      <th>Percent Pending Investigation</th>\n",
              "      <th>State Name</th>\n",
              "      <th>Footnote</th>\n",
              "      <th>Footnote Symbol</th>\n",
              "      <th>Predicted Value</th>\n",
              "    </tr>\n",
              "  </thead>\n",
              "  <tbody>\n",
              "    <tr>\n",
              "      <th>0</th>\n",
              "      <td>AK</td>\n",
              "      <td>2015</td>\n",
              "      <td>April</td>\n",
              "      <td>12 month-ending</td>\n",
              "      <td>Percent with drugs specified</td>\n",
              "      <td>88.095238</td>\n",
              "      <td>100</td>\n",
              "      <td>0.000000</td>\n",
              "      <td>Alaska</td>\n",
              "      <td>Numbers may differ from published reports usin...</td>\n",
              "      <td>**</td>\n",
              "      <td>NaN</td>\n",
              "    </tr>\n",
              "    <tr>\n",
              "      <th>1</th>\n",
              "      <td>AK</td>\n",
              "      <td>2015</td>\n",
              "      <td>April</td>\n",
              "      <td>12 month-ending</td>\n",
              "      <td>Opioids (T40.0-T40.4,T40.6)</td>\n",
              "      <td>NaN</td>\n",
              "      <td>100</td>\n",
              "      <td>0.000000</td>\n",
              "      <td>Alaska</td>\n",
              "      <td>Numbers may differ from published reports usin...</td>\n",
              "      <td>**</td>\n",
              "      <td>NaN</td>\n",
              "    </tr>\n",
              "    <tr>\n",
              "      <th>2</th>\n",
              "      <td>AK</td>\n",
              "      <td>2015</td>\n",
              "      <td>April</td>\n",
              "      <td>12 month-ending</td>\n",
              "      <td>Synthetic opioids, excl. methadone (T40.4)</td>\n",
              "      <td>NaN</td>\n",
              "      <td>100</td>\n",
              "      <td>0.000000</td>\n",
              "      <td>Alaska</td>\n",
              "      <td>Numbers may differ from published reports usin...</td>\n",
              "      <td>**</td>\n",
              "      <td>NaN</td>\n",
              "    </tr>\n",
              "    <tr>\n",
              "      <th>3</th>\n",
              "      <td>AK</td>\n",
              "      <td>2015</td>\n",
              "      <td>April</td>\n",
              "      <td>12 month-ending</td>\n",
              "      <td>Natural &amp; semi-synthetic opioids, incl. methad...</td>\n",
              "      <td>NaN</td>\n",
              "      <td>100</td>\n",
              "      <td>0.000000</td>\n",
              "      <td>Alaska</td>\n",
              "      <td>Numbers may differ from published reports usin...</td>\n",
              "      <td>**</td>\n",
              "      <td>NaN</td>\n",
              "    </tr>\n",
              "    <tr>\n",
              "      <th>4</th>\n",
              "      <td>AK</td>\n",
              "      <td>2015</td>\n",
              "      <td>April</td>\n",
              "      <td>12 month-ending</td>\n",
              "      <td>Number of Drug Overdose Deaths</td>\n",
              "      <td>126.000000</td>\n",
              "      <td>100</td>\n",
              "      <td>0.000000</td>\n",
              "      <td>Alaska</td>\n",
              "      <td>Numbers may differ from published reports usin...</td>\n",
              "      <td>**</td>\n",
              "      <td>126.0</td>\n",
              "    </tr>\n",
              "    <tr>\n",
              "      <th>...</th>\n",
              "      <td>...</td>\n",
              "      <td>...</td>\n",
              "      <td>...</td>\n",
              "      <td>...</td>\n",
              "      <td>...</td>\n",
              "      <td>...</td>\n",
              "      <td>...</td>\n",
              "      <td>...</td>\n",
              "      <td>...</td>\n",
              "      <td>...</td>\n",
              "      <td>...</td>\n",
              "      <td>...</td>\n",
              "    </tr>\n",
              "    <tr>\n",
              "      <th>53185</th>\n",
              "      <td>YC</td>\n",
              "      <td>2022</td>\n",
              "      <td>May</td>\n",
              "      <td>12 month-ending</td>\n",
              "      <td>Percent with drugs specified</td>\n",
              "      <td>99.538680</td>\n",
              "      <td>100</td>\n",
              "      <td>0.370425</td>\n",
              "      <td>New York City</td>\n",
              "      <td>Underreported due to incomplete data.</td>\n",
              "      <td>*</td>\n",
              "      <td>NaN</td>\n",
              "    </tr>\n",
              "    <tr>\n",
              "      <th>53186</th>\n",
              "      <td>YC</td>\n",
              "      <td>2022</td>\n",
              "      <td>May</td>\n",
              "      <td>12 month-ending</td>\n",
              "      <td>Cocaine (T40.5)</td>\n",
              "      <td>1321.000000</td>\n",
              "      <td>100</td>\n",
              "      <td>0.370425</td>\n",
              "      <td>New York City</td>\n",
              "      <td>Underreported due to incomplete data.</td>\n",
              "      <td>*</td>\n",
              "      <td>1392.0</td>\n",
              "    </tr>\n",
              "    <tr>\n",
              "      <th>53187</th>\n",
              "      <td>YC</td>\n",
              "      <td>2022</td>\n",
              "      <td>May</td>\n",
              "      <td>12 month-ending</td>\n",
              "      <td>Number of Drug Overdose Deaths</td>\n",
              "      <td>2818.000000</td>\n",
              "      <td>100</td>\n",
              "      <td>0.370425</td>\n",
              "      <td>New York City</td>\n",
              "      <td>Underreported due to incomplete data.</td>\n",
              "      <td>*</td>\n",
              "      <td>2940.0</td>\n",
              "    </tr>\n",
              "    <tr>\n",
              "      <th>53188</th>\n",
              "      <td>YC</td>\n",
              "      <td>2022</td>\n",
              "      <td>May</td>\n",
              "      <td>12 month-ending</td>\n",
              "      <td>Natural &amp; semi-synthetic opioids (T40.2)</td>\n",
              "      <td>468.000000</td>\n",
              "      <td>100</td>\n",
              "      <td>0.370425</td>\n",
              "      <td>New York City</td>\n",
              "      <td>Underreported due to incomplete data.</td>\n",
              "      <td>*</td>\n",
              "      <td>488.0</td>\n",
              "    </tr>\n",
              "    <tr>\n",
              "      <th>53189</th>\n",
              "      <td>YC</td>\n",
              "      <td>2022</td>\n",
              "      <td>May</td>\n",
              "      <td>12 month-ending</td>\n",
              "      <td>Synthetic opioids, excl. methadone (T40.4)</td>\n",
              "      <td>2225.000000</td>\n",
              "      <td>100</td>\n",
              "      <td>0.370425</td>\n",
              "      <td>New York City</td>\n",
              "      <td>Underreported due to incomplete data.</td>\n",
              "      <td>*</td>\n",
              "      <td>2336.0</td>\n",
              "    </tr>\n",
              "  </tbody>\n",
              "</table>\n",
              "<p>53190 rows × 12 columns</p>\n",
              "</div>\n",
              "      <button class=\"colab-df-convert\" onclick=\"convertToInteractive('df-081638a2-d4cb-47f4-af86-0e45253b6921')\"\n",
              "              title=\"Convert this dataframe to an interactive table.\"\n",
              "              style=\"display:none;\">\n",
              "        \n",
              "  <svg xmlns=\"http://www.w3.org/2000/svg\" height=\"24px\"viewBox=\"0 0 24 24\"\n",
              "       width=\"24px\">\n",
              "    <path d=\"M0 0h24v24H0V0z\" fill=\"none\"/>\n",
              "    <path d=\"M18.56 5.44l.94 2.06.94-2.06 2.06-.94-2.06-.94-.94-2.06-.94 2.06-2.06.94zm-11 1L8.5 8.5l.94-2.06 2.06-.94-2.06-.94L8.5 2.5l-.94 2.06-2.06.94zm10 10l.94 2.06.94-2.06 2.06-.94-2.06-.94-.94-2.06-.94 2.06-2.06.94z\"/><path d=\"M17.41 7.96l-1.37-1.37c-.4-.4-.92-.59-1.43-.59-.52 0-1.04.2-1.43.59L10.3 9.45l-7.72 7.72c-.78.78-.78 2.05 0 2.83L4 21.41c.39.39.9.59 1.41.59.51 0 1.02-.2 1.41-.59l7.78-7.78 2.81-2.81c.8-.78.8-2.07 0-2.86zM5.41 20L4 18.59l7.72-7.72 1.47 1.35L5.41 20z\"/>\n",
              "  </svg>\n",
              "      </button>\n",
              "      \n",
              "  <style>\n",
              "    .colab-df-container {\n",
              "      display:flex;\n",
              "      flex-wrap:wrap;\n",
              "      gap: 12px;\n",
              "    }\n",
              "\n",
              "    .colab-df-convert {\n",
              "      background-color: #E8F0FE;\n",
              "      border: none;\n",
              "      border-radius: 50%;\n",
              "      cursor: pointer;\n",
              "      display: none;\n",
              "      fill: #1967D2;\n",
              "      height: 32px;\n",
              "      padding: 0 0 0 0;\n",
              "      width: 32px;\n",
              "    }\n",
              "\n",
              "    .colab-df-convert:hover {\n",
              "      background-color: #E2EBFA;\n",
              "      box-shadow: 0px 1px 2px rgba(60, 64, 67, 0.3), 0px 1px 3px 1px rgba(60, 64, 67, 0.15);\n",
              "      fill: #174EA6;\n",
              "    }\n",
              "\n",
              "    [theme=dark] .colab-df-convert {\n",
              "      background-color: #3B4455;\n",
              "      fill: #D2E3FC;\n",
              "    }\n",
              "\n",
              "    [theme=dark] .colab-df-convert:hover {\n",
              "      background-color: #434B5C;\n",
              "      box-shadow: 0px 1px 3px 1px rgba(0, 0, 0, 0.15);\n",
              "      filter: drop-shadow(0px 1px 2px rgba(0, 0, 0, 0.3));\n",
              "      fill: #FFFFFF;\n",
              "    }\n",
              "  </style>\n",
              "\n",
              "      <script>\n",
              "        const buttonEl =\n",
              "          document.querySelector('#df-081638a2-d4cb-47f4-af86-0e45253b6921 button.colab-df-convert');\n",
              "        buttonEl.style.display =\n",
              "          google.colab.kernel.accessAllowed ? 'block' : 'none';\n",
              "\n",
              "        async function convertToInteractive(key) {\n",
              "          const element = document.querySelector('#df-081638a2-d4cb-47f4-af86-0e45253b6921');\n",
              "          const dataTable =\n",
              "            await google.colab.kernel.invokeFunction('convertToInteractive',\n",
              "                                                     [key], {});\n",
              "          if (!dataTable) return;\n",
              "\n",
              "          const docLinkHtml = 'Like what you see? Visit the ' +\n",
              "            '<a target=\"_blank\" href=https://colab.research.google.com/notebooks/data_table.ipynb>data table notebook</a>'\n",
              "            + ' to learn more about interactive tables.';\n",
              "          element.innerHTML = '';\n",
              "          dataTable['output_type'] = 'display_data';\n",
              "          await google.colab.output.renderOutput(dataTable, element);\n",
              "          const docLink = document.createElement('div');\n",
              "          docLink.innerHTML = docLinkHtml;\n",
              "          element.appendChild(docLink);\n",
              "        }\n",
              "      </script>\n",
              "    </div>\n",
              "  </div>\n",
              "  "
            ]
          },
          "metadata": {},
          "execution_count": 15
        }
      ]
    }
  ]
}